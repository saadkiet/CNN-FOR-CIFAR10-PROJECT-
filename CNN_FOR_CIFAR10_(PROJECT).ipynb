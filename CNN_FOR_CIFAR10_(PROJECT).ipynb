{
  "nbformat": 4,
  "nbformat_minor": 0,
  "metadata": {
    "colab": {
      "name": "TF2.1 CNN FOR CIFAR10 (PROJECT).ipynb",
      "provenance": [],
      "collapsed_sections": [],
      "toc_visible": true,
      "authorship_tag": "ABX9TyPR8G0Crufnm1pZeNxt7Rg1",
      "include_colab_link": true
    },
    "kernelspec": {
      "name": "python3",
      "display_name": "Python 3"
    }
  },
  "cells": [
    {
      "cell_type": "markdown",
      "metadata": {
        "id": "view-in-github",
        "colab_type": "text"
      },
      "source": [
        "<a href=\"https://colab.research.google.com/github/saadkiet/CNN-FOR-CIFAR10-PROJECT-/blob/master/CNN_FOR_CIFAR10_(PROJECT).ipynb\" target=\"_parent\"><img src=\"https://colab.research.google.com/assets/colab-badge.svg\" alt=\"Open In Colab\"/></a>"
      ]
    },
    {
      "cell_type": "markdown",
      "metadata": {
        "id": "ZEQiLmx67cLU",
        "colab_type": "text"
      },
      "source": [
        "# Step 1 : Set up and Install"
      ]
    },
    {
      "cell_type": "code",
      "metadata": {
        "id": "XAvZ0nt32YrU",
        "colab_type": "code",
        "outputId": "3780cadc-7bed-44c5-a306-0c17e449ea89",
        "colab": {
          "base_uri": "https://localhost:8080/",
          "height": 1000
        }
      },
      "source": [
        "pip install tensorflow-gpu"
      ],
      "execution_count": 0,
      "outputs": [
        {
          "output_type": "stream",
          "text": [
            "Collecting tensorflow-gpu\n",
            "\u001b[?25l  Downloading https://files.pythonhosted.org/packages/0a/93/c7bca39b23aae45cd2e85ad3871c81eccc63b9c5276e926511e2e5b0879d/tensorflow_gpu-2.1.0-cp36-cp36m-manylinux2010_x86_64.whl (421.8MB)\n",
            "\u001b[K     |████████████████████████████████| 421.8MB 30kB/s \n",
            "\u001b[?25hRequirement already satisfied: keras-applications>=1.0.8 in /usr/local/lib/python3.6/dist-packages (from tensorflow-gpu) (1.0.8)\n",
            "Requirement already satisfied: keras-preprocessing>=1.1.0 in /usr/local/lib/python3.6/dist-packages (from tensorflow-gpu) (1.1.0)\n",
            "Requirement already satisfied: six>=1.12.0 in /usr/local/lib/python3.6/dist-packages (from tensorflow-gpu) (1.12.0)\n",
            "Requirement already satisfied: absl-py>=0.7.0 in /usr/local/lib/python3.6/dist-packages (from tensorflow-gpu) (0.9.0)\n",
            "Collecting gast==0.2.2\n",
            "  Downloading https://files.pythonhosted.org/packages/4e/35/11749bf99b2d4e3cceb4d55ca22590b0d7c2c62b9de38ac4a4a7f4687421/gast-0.2.2.tar.gz\n",
            "Requirement already satisfied: numpy<2.0,>=1.16.0 in /usr/local/lib/python3.6/dist-packages (from tensorflow-gpu) (1.18.2)\n",
            "Collecting tensorboard<2.2.0,>=2.1.0\n",
            "\u001b[?25l  Downloading https://files.pythonhosted.org/packages/d9/41/bbf49b61370e4f4d245d4c6051dfb6db80cec672605c91b1652ac8cc3d38/tensorboard-2.1.1-py3-none-any.whl (3.8MB)\n",
            "\u001b[K     |████████████████████████████████| 3.9MB 39.7MB/s \n",
            "\u001b[?25hRequirement already satisfied: termcolor>=1.1.0 in /usr/local/lib/python3.6/dist-packages (from tensorflow-gpu) (1.1.0)\n",
            "Requirement already satisfied: wheel>=0.26; python_version >= \"3\" in /usr/local/lib/python3.6/dist-packages (from tensorflow-gpu) (0.34.2)\n",
            "Requirement already satisfied: wrapt>=1.11.1 in /usr/local/lib/python3.6/dist-packages (from tensorflow-gpu) (1.12.1)\n",
            "Requirement already satisfied: astor>=0.6.0 in /usr/local/lib/python3.6/dist-packages (from tensorflow-gpu) (0.8.1)\n",
            "Requirement already satisfied: scipy==1.4.1; python_version >= \"3\" in /usr/local/lib/python3.6/dist-packages (from tensorflow-gpu) (1.4.1)\n",
            "Requirement already satisfied: opt-einsum>=2.3.2 in /usr/local/lib/python3.6/dist-packages (from tensorflow-gpu) (3.2.0)\n",
            "Requirement already satisfied: google-pasta>=0.1.6 in /usr/local/lib/python3.6/dist-packages (from tensorflow-gpu) (0.2.0)\n",
            "Collecting tensorflow-estimator<2.2.0,>=2.1.0rc0\n",
            "\u001b[?25l  Downloading https://files.pythonhosted.org/packages/18/90/b77c328a1304437ab1310b463e533fa7689f4bfc41549593056d812fab8e/tensorflow_estimator-2.1.0-py2.py3-none-any.whl (448kB)\n",
            "\u001b[K     |████████████████████████████████| 450kB 50.6MB/s \n",
            "\u001b[?25hRequirement already satisfied: grpcio>=1.8.6 in /usr/local/lib/python3.6/dist-packages (from tensorflow-gpu) (1.28.1)\n",
            "Requirement already satisfied: protobuf>=3.8.0 in /usr/local/lib/python3.6/dist-packages (from tensorflow-gpu) (3.10.0)\n",
            "Requirement already satisfied: h5py in /usr/local/lib/python3.6/dist-packages (from keras-applications>=1.0.8->tensorflow-gpu) (2.10.0)\n",
            "Requirement already satisfied: setuptools>=41.0.0 in /usr/local/lib/python3.6/dist-packages (from tensorboard<2.2.0,>=2.1.0->tensorflow-gpu) (46.1.3)\n",
            "Requirement already satisfied: requests<3,>=2.21.0 in /usr/local/lib/python3.6/dist-packages (from tensorboard<2.2.0,>=2.1.0->tensorflow-gpu) (2.21.0)\n",
            "Requirement already satisfied: google-auth<2,>=1.6.3 in /usr/local/lib/python3.6/dist-packages (from tensorboard<2.2.0,>=2.1.0->tensorflow-gpu) (1.7.2)\n",
            "Requirement already satisfied: markdown>=2.6.8 in /usr/local/lib/python3.6/dist-packages (from tensorboard<2.2.0,>=2.1.0->tensorflow-gpu) (3.2.1)\n",
            "Requirement already satisfied: google-auth-oauthlib<0.5,>=0.4.1 in /usr/local/lib/python3.6/dist-packages (from tensorboard<2.2.0,>=2.1.0->tensorflow-gpu) (0.4.1)\n",
            "Requirement already satisfied: werkzeug>=0.11.15 in /usr/local/lib/python3.6/dist-packages (from tensorboard<2.2.0,>=2.1.0->tensorflow-gpu) (1.0.1)\n",
            "Requirement already satisfied: urllib3<1.25,>=1.21.1 in /usr/local/lib/python3.6/dist-packages (from requests<3,>=2.21.0->tensorboard<2.2.0,>=2.1.0->tensorflow-gpu) (1.24.3)\n",
            "Requirement already satisfied: chardet<3.1.0,>=3.0.2 in /usr/local/lib/python3.6/dist-packages (from requests<3,>=2.21.0->tensorboard<2.2.0,>=2.1.0->tensorflow-gpu) (3.0.4)\n",
            "Requirement already satisfied: certifi>=2017.4.17 in /usr/local/lib/python3.6/dist-packages (from requests<3,>=2.21.0->tensorboard<2.2.0,>=2.1.0->tensorflow-gpu) (2020.4.5.1)\n",
            "Requirement already satisfied: idna<2.9,>=2.5 in /usr/local/lib/python3.6/dist-packages (from requests<3,>=2.21.0->tensorboard<2.2.0,>=2.1.0->tensorflow-gpu) (2.8)\n",
            "Requirement already satisfied: pyasn1-modules>=0.2.1 in /usr/local/lib/python3.6/dist-packages (from google-auth<2,>=1.6.3->tensorboard<2.2.0,>=2.1.0->tensorflow-gpu) (0.2.8)\n",
            "Requirement already satisfied: cachetools<3.2,>=2.0.0 in /usr/local/lib/python3.6/dist-packages (from google-auth<2,>=1.6.3->tensorboard<2.2.0,>=2.1.0->tensorflow-gpu) (3.1.1)\n",
            "Requirement already satisfied: rsa<4.1,>=3.1.4 in /usr/local/lib/python3.6/dist-packages (from google-auth<2,>=1.6.3->tensorboard<2.2.0,>=2.1.0->tensorflow-gpu) (4.0)\n",
            "Requirement already satisfied: requests-oauthlib>=0.7.0 in /usr/local/lib/python3.6/dist-packages (from google-auth-oauthlib<0.5,>=0.4.1->tensorboard<2.2.0,>=2.1.0->tensorflow-gpu) (1.3.0)\n",
            "Requirement already satisfied: pyasn1<0.5.0,>=0.4.6 in /usr/local/lib/python3.6/dist-packages (from pyasn1-modules>=0.2.1->google-auth<2,>=1.6.3->tensorboard<2.2.0,>=2.1.0->tensorflow-gpu) (0.4.8)\n",
            "Requirement already satisfied: oauthlib>=3.0.0 in /usr/local/lib/python3.6/dist-packages (from requests-oauthlib>=0.7.0->google-auth-oauthlib<0.5,>=0.4.1->tensorboard<2.2.0,>=2.1.0->tensorflow-gpu) (3.1.0)\n",
            "Building wheels for collected packages: gast\n",
            "  Building wheel for gast (setup.py) ... \u001b[?25l\u001b[?25hdone\n",
            "  Created wheel for gast: filename=gast-0.2.2-cp36-none-any.whl size=7540 sha256=34040dbaaf23f2d616afef9dd43d835cf8b587c74b9d8756b3f46b5359adf23a\n",
            "  Stored in directory: /root/.cache/pip/wheels/5c/2e/7e/a1d4d4fcebe6c381f378ce7743a3ced3699feb89bcfbdadadd\n",
            "Successfully built gast\n",
            "\u001b[31mERROR: tensorflow 2.2.0rc3 has requirement gast==0.3.3, but you'll have gast 0.2.2 which is incompatible.\u001b[0m\n",
            "\u001b[31mERROR: tensorflow 2.2.0rc3 has requirement tensorboard<2.3.0,>=2.2.0, but you'll have tensorboard 2.1.1 which is incompatible.\u001b[0m\n",
            "\u001b[31mERROR: tensorflow 2.2.0rc3 has requirement tensorflow-estimator<2.3.0,>=2.2.0rc0, but you'll have tensorflow-estimator 2.1.0 which is incompatible.\u001b[0m\n",
            "Installing collected packages: gast, tensorboard, tensorflow-estimator, tensorflow-gpu\n",
            "  Found existing installation: gast 0.3.3\n",
            "    Uninstalling gast-0.3.3:\n",
            "      Successfully uninstalled gast-0.3.3\n",
            "  Found existing installation: tensorboard 2.2.0\n",
            "    Uninstalling tensorboard-2.2.0:\n",
            "      Successfully uninstalled tensorboard-2.2.0\n",
            "  Found existing installation: tensorflow-estimator 2.2.0rc0\n",
            "    Uninstalling tensorflow-estimator-2.2.0rc0:\n",
            "      Successfully uninstalled tensorflow-estimator-2.2.0rc0\n",
            "Successfully installed gast-0.2.2 tensorboard-2.1.1 tensorflow-estimator-2.1.0 tensorflow-gpu-2.1.0\n"
          ],
          "name": "stdout"
        }
      ]
    },
    {
      "cell_type": "code",
      "metadata": {
        "id": "XVW8-O4d2Z37",
        "colab_type": "code",
        "colab": {}
      },
      "source": [
        "import tensorflow as tf\n",
        "import pandas as pd\n",
        "import numpy as np\n",
        "import matplotlib.pyplot as plt\n",
        "from tensorflow.keras.models import Model"
      ],
      "execution_count": 0,
      "outputs": []
    },
    {
      "cell_type": "code",
      "metadata": {
        "id": "JX4HoRmZ2coe",
        "colab_type": "code",
        "colab": {}
      },
      "source": [
        "from tensorflow.keras.layers import Input, Conv2D, Dense, Flatten, Dropout"
      ],
      "execution_count": 0,
      "outputs": []
    },
    {
      "cell_type": "code",
      "metadata": {
        "id": "EtdIwlOq2kyv",
        "colab_type": "code",
        "outputId": "ee14c3d3-d436-4b1f-aaec-79291052d657",
        "colab": {
          "base_uri": "https://localhost:8080/",
          "height": 34
        }
      },
      "source": [
        "print(tf.__version__)"
      ],
      "execution_count": 0,
      "outputs": [
        {
          "output_type": "stream",
          "text": [
            "2.1.0\n"
          ],
          "name": "stdout"
        }
      ]
    },
    {
      "cell_type": "markdown",
      "metadata": {
        "id": "AVg-ewLS75om",
        "colab_type": "text"
      },
      "source": [
        "# Step 2 : Loading Cifar10 dataset"
      ]
    },
    {
      "cell_type": "code",
      "metadata": {
        "id": "MQEdQVE-24J-",
        "colab_type": "code",
        "colab": {}
      },
      "source": [
        "from tensorflow.keras.datasets import cifar10"
      ],
      "execution_count": 0,
      "outputs": []
    },
    {
      "cell_type": "code",
      "metadata": {
        "id": "wB4oAofM2yea",
        "colab_type": "code",
        "outputId": "93975ff6-afc9-4027-e261-a688feed1fee",
        "colab": {
          "base_uri": "https://localhost:8080/",
          "height": 51
        }
      },
      "source": [
        "(xtrain,ytrain),(xtest,ytest)=cifar10.load_data()"
      ],
      "execution_count": 0,
      "outputs": [
        {
          "output_type": "stream",
          "text": [
            "Downloading data from https://www.cs.toronto.edu/~kriz/cifar-10-python.tar.gz\n",
            "170500096/170498071 [==============================] - 11s 0us/step\n"
          ],
          "name": "stdout"
        }
      ]
    },
    {
      "cell_type": "code",
      "metadata": {
        "id": "Rtex6KaT29vy",
        "colab_type": "code",
        "outputId": "a02efb0f-0802-4335-ce8d-ee2be5c3f776",
        "colab": {
          "base_uri": "https://localhost:8080/",
          "height": 34
        }
      },
      "source": [
        "xtrain.shape, ytrain.shape"
      ],
      "execution_count": 0,
      "outputs": [
        {
          "output_type": "execute_result",
          "data": {
            "text/plain": [
              "((50000, 32, 32, 3), (50000, 1))"
            ]
          },
          "metadata": {
            "tags": []
          },
          "execution_count": 8
        }
      ]
    },
    {
      "cell_type": "code",
      "metadata": {
        "id": "pUoCWfWP3IJP",
        "colab_type": "code",
        "colab": {}
      },
      "source": [
        "xtrain,xtest=xtrain/255,xtest/255"
      ],
      "execution_count": 0,
      "outputs": []
    },
    {
      "cell_type": "code",
      "metadata": {
        "id": "FIiSANmO68NE",
        "colab_type": "code",
        "colab": {}
      },
      "source": [
        "ytrain,ytest=ytrain.flatten(),ytest.flatten()"
      ],
      "execution_count": 0,
      "outputs": []
    },
    {
      "cell_type": "code",
      "metadata": {
        "id": "7yDxquHT7L1L",
        "colab_type": "code",
        "outputId": "258ce982-74f8-496f-bda5-99749909deb2",
        "colab": {
          "base_uri": "https://localhost:8080/",
          "height": 34
        }
      },
      "source": [
        "ytrain.shape"
      ],
      "execution_count": 0,
      "outputs": [
        {
          "output_type": "execute_result",
          "data": {
            "text/plain": [
              "(50000,)"
            ]
          },
          "metadata": {
            "tags": []
          },
          "execution_count": 30
        }
      ]
    },
    {
      "cell_type": "code",
      "metadata": {
        "id": "kl_shxa33YBB",
        "colab_type": "code",
        "outputId": "98a36c09-61e2-42c3-fc1f-fa7a984447d2",
        "colab": {
          "base_uri": "https://localhost:8080/",
          "height": 34
        }
      },
      "source": [
        "xtrain.max(),xtrain.min()"
      ],
      "execution_count": 0,
      "outputs": [
        {
          "output_type": "execute_result",
          "data": {
            "text/plain": [
              "(1.0, 0.0)"
            ]
          },
          "metadata": {
            "tags": []
          },
          "execution_count": 10
        }
      ]
    },
    {
      "cell_type": "code",
      "metadata": {
        "id": "Oa1YGZz23cML",
        "colab_type": "code",
        "colab": {}
      },
      "source": [
        "class_names = ['0: airplane', '1: automobile', '2: bird', '3: cat', '4: deer', '5: dog', '6: frog', '7: horse', '8: ship', '9: truck']"
      ],
      "execution_count": 0,
      "outputs": []
    },
    {
      "cell_type": "code",
      "metadata": {
        "id": "C4MsSmBF3faB",
        "colab_type": "code",
        "outputId": "3adc98d2-14c3-46c7-e9ca-e5043385e2e8",
        "colab": {
          "base_uri": "https://localhost:8080/",
          "height": 34
        }
      },
      "source": [
        "print(class_names)"
      ],
      "execution_count": 0,
      "outputs": [
        {
          "output_type": "stream",
          "text": [
            "['0: airplane', '1: automobile', '2: bird', '3: cat', '4: deer', '5: dog', '6: frog', '7: horse', '8: ship', '9: truck']\n"
          ],
          "name": "stdout"
        }
      ]
    },
    {
      "cell_type": "code",
      "metadata": {
        "id": "OT-rcdTL3kiO",
        "colab_type": "code",
        "outputId": "729e6243-0f61-4e72-f6f5-f4e33f65e277",
        "colab": {
          "base_uri": "https://localhost:8080/",
          "height": 34
        }
      },
      "source": [
        "xtrain[0].shape"
      ],
      "execution_count": 0,
      "outputs": [
        {
          "output_type": "execute_result",
          "data": {
            "text/plain": [
              "(32, 32, 3)"
            ]
          },
          "metadata": {
            "tags": []
          },
          "execution_count": 13
        }
      ]
    },
    {
      "cell_type": "markdown",
      "metadata": {
        "id": "-hHCxo7x7_Kl",
        "colab_type": "text"
      },
      "source": [
        "# Step 3 : Building CNN model"
      ]
    },
    {
      "cell_type": "code",
      "metadata": {
        "id": "nMneC1cE3g6P",
        "colab_type": "code",
        "colab": {}
      },
      "source": [
        "# Build the model using the functional API\n",
        "i = Input(shape=xtrain[0].shape)\n",
        "x = Conv2D(32, (3, 3), strides=2, activation='relu')(i)\n",
        "x = Conv2D(64, (3, 3), strides=2, activation='relu')(x)\n",
        "x = Conv2D(128, (3, 3), strides=2, activation='relu')(x)\n",
        "x = Flatten()(x)\n",
        "x = Dropout(0.3)(x)\n",
        "x = Dense(1024, activation='relu')(x)\n",
        "x = Dropout(0.3)(x)\n",
        "x = Dense(10, activation='softmax')(x)\n",
        "\n",
        "model = Model(i, x)"
      ],
      "execution_count": 0,
      "outputs": []
    },
    {
      "cell_type": "code",
      "metadata": {
        "id": "MUsQmfD-3qjB",
        "colab_type": "code",
        "outputId": "c07dfc4e-0cf4-4940-9733-7b54c14bfbb6",
        "colab": {
          "base_uri": "https://localhost:8080/",
          "height": 459
        }
      },
      "source": [
        "model.summary()"
      ],
      "execution_count": 0,
      "outputs": [
        {
          "output_type": "stream",
          "text": [
            "Model: \"model\"\n",
            "_________________________________________________________________\n",
            "Layer (type)                 Output Shape              Param #   \n",
            "=================================================================\n",
            "input_1 (InputLayer)         [(None, 32, 32, 3)]       0         \n",
            "_________________________________________________________________\n",
            "conv2d (Conv2D)              (None, 15, 15, 32)        896       \n",
            "_________________________________________________________________\n",
            "conv2d_1 (Conv2D)            (None, 7, 7, 64)          18496     \n",
            "_________________________________________________________________\n",
            "conv2d_2 (Conv2D)            (None, 3, 3, 128)         73856     \n",
            "_________________________________________________________________\n",
            "flatten (Flatten)            (None, 1152)              0         \n",
            "_________________________________________________________________\n",
            "dropout (Dropout)            (None, 1152)              0         \n",
            "_________________________________________________________________\n",
            "dense (Dense)                (None, 1024)              1180672   \n",
            "_________________________________________________________________\n",
            "dropout_1 (Dropout)          (None, 1024)              0         \n",
            "_________________________________________________________________\n",
            "dense_1 (Dense)              (None, 10)                10250     \n",
            "=================================================================\n",
            "Total params: 1,284,170\n",
            "Trainable params: 1,284,170\n",
            "Non-trainable params: 0\n",
            "_________________________________________________________________\n"
          ],
          "name": "stdout"
        }
      ]
    },
    {
      "cell_type": "code",
      "metadata": {
        "id": "MCAQcOUc3sgo",
        "colab_type": "code",
        "colab": {}
      },
      "source": [
        "# Compile and fit\n",
        "# Note: make sure you are using the GPU for this!\n",
        "model.compile(optimizer='adam',\n",
        "              loss='sparse_categorical_crossentropy',\n",
        "              metrics=['accuracy'])"
      ],
      "execution_count": 0,
      "outputs": []
    },
    {
      "cell_type": "code",
      "metadata": {
        "id": "oDjIL-mB3u9h",
        "colab_type": "code",
        "outputId": "31ac5cd5-0cbc-44a0-d52f-337d05c9a0c6",
        "colab": {
          "base_uri": "https://localhost:8080/",
          "height": 544
        }
      },
      "source": [
        "r = model.fit(xtrain, ytrain, validation_data=(xtest, ytest), epochs=15)"
      ],
      "execution_count": 0,
      "outputs": [
        {
          "output_type": "stream",
          "text": [
            "Train on 50000 samples, validate on 10000 samples\n",
            "Epoch 1/15\n",
            "50000/50000 [==============================] - 50s 991us/sample - loss: 0.8209 - accuracy: 0.7098 - val_loss: 0.8795 - val_accuracy: 0.6920\n",
            "Epoch 2/15\n",
            "50000/50000 [==============================] - 49s 982us/sample - loss: 0.7581 - accuracy: 0.7311 - val_loss: 0.8760 - val_accuracy: 0.6949\n",
            "Epoch 3/15\n",
            "50000/50000 [==============================] - 50s 991us/sample - loss: 0.7005 - accuracy: 0.7498 - val_loss: 0.8450 - val_accuracy: 0.7031\n",
            "Epoch 4/15\n",
            "50000/50000 [==============================] - 49s 989us/sample - loss: 0.6465 - accuracy: 0.7692 - val_loss: 0.8582 - val_accuracy: 0.6994\n",
            "Epoch 5/15\n",
            "50000/50000 [==============================] - 49s 989us/sample - loss: 0.6091 - accuracy: 0.7837 - val_loss: 0.8530 - val_accuracy: 0.7074\n",
            "Epoch 6/15\n",
            "50000/50000 [==============================] - 49s 988us/sample - loss: 0.5665 - accuracy: 0.7974 - val_loss: 0.8917 - val_accuracy: 0.6989\n",
            "Epoch 7/15\n",
            "50000/50000 [==============================] - 49s 989us/sample - loss: 0.5290 - accuracy: 0.8117 - val_loss: 0.8631 - val_accuracy: 0.7106\n",
            "Epoch 8/15\n",
            "50000/50000 [==============================] - 50s 993us/sample - loss: 0.4986 - accuracy: 0.8228 - val_loss: 0.9001 - val_accuracy: 0.7003\n",
            "Epoch 9/15\n",
            "50000/50000 [==============================] - 50s 998us/sample - loss: 0.4747 - accuracy: 0.8314 - val_loss: 0.8890 - val_accuracy: 0.7081\n",
            "Epoch 10/15\n",
            "50000/50000 [==============================] - 50s 990us/sample - loss: 0.4530 - accuracy: 0.8379 - val_loss: 0.8815 - val_accuracy: 0.7126\n",
            "Epoch 11/15\n",
            "50000/50000 [==============================] - 50s 995us/sample - loss: 0.4311 - accuracy: 0.8458 - val_loss: 0.9326 - val_accuracy: 0.6999\n",
            "Epoch 12/15\n",
            "50000/50000 [==============================] - 49s 983us/sample - loss: 0.4180 - accuracy: 0.8529 - val_loss: 0.9397 - val_accuracy: 0.7067\n",
            "Epoch 13/15\n",
            "50000/50000 [==============================] - 49s 985us/sample - loss: 0.4045 - accuracy: 0.8550 - val_loss: 0.9494 - val_accuracy: 0.7097\n",
            "Epoch 14/15\n",
            "50000/50000 [==============================] - 50s 991us/sample - loss: 0.3880 - accuracy: 0.8622 - val_loss: 0.9357 - val_accuracy: 0.7053\n",
            "Epoch 15/15\n",
            "50000/50000 [==============================] - 49s 985us/sample - loss: 0.3777 - accuracy: 0.8675 - val_loss: 0.9929 - val_accuracy: 0.7010\n"
          ],
          "name": "stdout"
        }
      ]
    },
    {
      "cell_type": "markdown",
      "metadata": {
        "id": "ynIt7jiT8N3z",
        "colab_type": "text"
      },
      "source": [
        "# Step 4 : Model Prediction"
      ]
    },
    {
      "cell_type": "code",
      "metadata": {
        "id": "CoSTsoxl3yQB",
        "colab_type": "code",
        "colab": {}
      },
      "source": [
        "ypred = model.predict(xtest)"
      ],
      "execution_count": 0,
      "outputs": []
    },
    {
      "cell_type": "code",
      "metadata": {
        "id": "vFwBREOH51k7",
        "colab_type": "code",
        "outputId": "008f0d81-af64-47c4-eb5a-61f5d9942653",
        "colab": {
          "base_uri": "https://localhost:8080/",
          "height": 238
        }
      },
      "source": [
        "print(ypred)"
      ],
      "execution_count": 0,
      "outputs": [
        {
          "output_type": "stream",
          "text": [
            "[[1.08230114e-01 2.95917541e-02 7.26698190e-02 ... 7.01124966e-02\n",
            "  2.95753423e-02 9.35150161e-02]\n",
            " [1.19485185e-06 1.16097983e-02 2.37589698e-16 ... 3.98817440e-18\n",
            "  9.88387406e-01 1.59206138e-06]\n",
            " [3.80012281e-02 6.43649488e-04 3.54294491e-04 ... 5.69077019e-06\n",
            "  9.60560441e-01 4.27379884e-04]\n",
            " ...\n",
            " [2.52623568e-06 5.53178415e-06 1.35275966e-03 ... 3.35979508e-04\n",
            "  6.32481772e-07 3.65331471e-05]\n",
            " [9.68757318e-04 9.93737936e-01 1.18436590e-04 ... 2.14831980e-05\n",
            "  1.59655442e-03 1.22318132e-04]\n",
            " [5.35379954e-08 2.65150346e-10 1.16422534e-07 ... 9.99765337e-01\n",
            "  6.46788401e-09 7.48962634e-08]]\n"
          ],
          "name": "stdout"
        }
      ]
    },
    {
      "cell_type": "code",
      "metadata": {
        "id": "-wYMQ9Ko51uD",
        "colab_type": "code",
        "colab": {}
      },
      "source": [
        "ypred=np.argmax(ypred,axis=1)"
      ],
      "execution_count": 0,
      "outputs": []
    },
    {
      "cell_type": "code",
      "metadata": {
        "id": "Cp4ko3rQ51qs",
        "colab_type": "code",
        "outputId": "240e7fe8-bd72-4f94-b153-c12379d14d41",
        "colab": {
          "base_uri": "https://localhost:8080/",
          "height": 34
        }
      },
      "source": [
        "print(ypred)"
      ],
      "execution_count": 0,
      "outputs": [
        {
          "output_type": "stream",
          "text": [
            "[3 8 8 ... 5 1 7]\n"
          ],
          "name": "stdout"
        }
      ]
    },
    {
      "cell_type": "code",
      "metadata": {
        "id": "aB3UGLie8br0",
        "colab_type": "code",
        "outputId": "5a9ea0ac-a034-485b-9872-7a230ccec4f6",
        "colab": {
          "base_uri": "https://localhost:8080/",
          "height": 34
        }
      },
      "source": [
        "print(ypred[10],ytest[10])"
      ],
      "execution_count": 0,
      "outputs": [
        {
          "output_type": "stream",
          "text": [
            "0 0\n"
          ],
          "name": "stdout"
        }
      ]
    },
    {
      "cell_type": "markdown",
      "metadata": {
        "id": "t1ajW_138erL",
        "colab_type": "text"
      },
      "source": [
        "# Step 5 : Model Evaluation"
      ]
    },
    {
      "cell_type": "code",
      "metadata": {
        "id": "Zqr2gOOV8bzq",
        "colab_type": "code",
        "outputId": "5a308bec-2bd1-4c73-b149-4e67c5bb8438",
        "colab": {
          "base_uri": "https://localhost:8080/",
          "height": 204
        }
      },
      "source": [
        "from sklearn.metrics import confusion_matrix, accuracy_score\n",
        "\n",
        "cm=confusion_matrix(ypred,ytest)\n",
        "print(cm)\n",
        "\n",
        "print(accuracy_score(ypred,ytest))"
      ],
      "execution_count": 0,
      "outputs": [
        {
          "output_type": "stream",
          "text": [
            "[[805  20  94  35  42  20  11  27  83  53]\n",
            " [ 19 834   8  16   4  12  12   3  45 108]\n",
            " [ 25   6 543  52  52  30  28  21   7   5]\n",
            " [ 10   6  63 490  68 194  71  44  14  10]\n",
            " [ 16   3  94  73 666  57  55  58   8   6]\n",
            " [  7   3  78 195  47 602  40  62   6   9]\n",
            " [  4   9  49  43  32  16 752   3   2   3]\n",
            " [ 15   2  32  36  74  44  11 751   3  17]\n",
            " [ 65  29  22  21  10  14  11   7 814  36]\n",
            " [ 34  88  17  39   5  11   9  24  18 753]]\n",
            "0.701\n"
          ],
          "name": "stdout"
        }
      ]
    },
    {
      "cell_type": "code",
      "metadata": {
        "id": "Oyn5skX18iIk",
        "colab_type": "code",
        "outputId": "fafcada0-6ab8-4be1-9713-243155b0fae6",
        "colab": {
          "base_uri": "https://localhost:8080/",
          "height": 282
        }
      },
      "source": [
        "# Plot loss per iteration\n",
        "import matplotlib.pyplot as plt\n",
        "plt.plot(r.history['loss'], label='Train loss')\n",
        "plt.plot(r.history['val_loss'], label='Test val_loss')\n",
        "plt.legend()\n",
        "\n"
      ],
      "execution_count": 0,
      "outputs": [
        {
          "output_type": "execute_result",
          "data": {
            "text/plain": [
              "<matplotlib.legend.Legend at 0x7fa6a36c4748>"
            ]
          },
          "metadata": {
            "tags": []
          },
          "execution_count": 40
        },
        {
          "output_type": "display_data",
          "data": {
            "image/png": "[encoded data removed]",
            "text/plain": [
              "<Figure size 432x288 with 1 Axes>"
            ]
          },
          "metadata": {
            "tags": [],
            "needs_background": "light"
          }
        }
      ]
    },
    {
      "cell_type": "code",
      "metadata": {
        "id": "IZeeWEG--bi-",
        "colab_type": "code",
        "outputId": "effd4b21-0ce8-448a-c1e1-ccfeda50efc1",
        "colab": {
          "base_uri": "https://localhost:8080/",
          "height": 285
        }
      },
      "source": [
        "# Plot loss per iteration\n",
        "import matplotlib.pyplot as plt\n",
        "plt.plot(r.history['accuracy'], label='Training accuracy')\n",
        "plt.plot(r.history['val_accuracy'], label=' Test accuracy')\n",
        "plt.legend()"
      ],
      "execution_count": 0,
      "outputs": [
        {
          "output_type": "execute_result",
          "data": {
            "text/plain": [
              "<matplotlib.legend.Legend at 0x7fa6a2f00748>"
            ]
          },
          "metadata": {
            "tags": []
          },
          "execution_count": 41
        },
        {
          "output_type": "display_data",
          "data": {
            "image/png": "[encoded data removed]",
            "text/plain": [
              "<Figure size 432x288 with 1 Axes>"
            ]
          },
          "metadata": {
            "tags": [],
            "needs_background": "light"
          }
        }
      ]
    },
    {
      "cell_type": "code",
      "metadata": {
        "id": "udCOsj918iQK",
        "colab_type": "code",
        "outputId": "5ca56470-b687-4cec-9332-a57e9c9e9b6f",
        "colab": {
          "base_uri": "https://localhost:8080/",
          "height": 498
        }
      },
      "source": [
        "# Plot confusion matrix\n",
        "from sklearn.metrics import confusion_matrix\n",
        "import itertools\n",
        "\n",
        "def plot_confusion_matrix(cm, classes,\n",
        "                          normalize=False,\n",
        "                          title='Confusion matrix',\n",
        "                          cmap=plt.cm.Blues):\n",
        "  \"\"\"\n",
        "  This function prints and plots the confusion matrix.\n",
        "  Normalization can be applied by setting `normalize=True`.\n",
        "  \"\"\"\n",
        "  if normalize:\n",
        "      cm = cm.astype('float') / cm.sum(axis=1)[:, np.newaxis]\n",
        "      print(\"Normalized confusion matrix\")\n",
        "  else:\n",
        "      print('Confusion matrix, without normalization')\n",
        "\n",
        "  print(cm)\n",
        "\n",
        "  plt.imshow(cm, interpolation='nearest', cmap=cmap)\n",
        "  plt.title(title)\n",
        "  plt.colorbar()\n",
        "  tick_marks = np.arange(len(classes))\n",
        "  plt.xticks(tick_marks, classes, rotation=45)\n",
        "  plt.yticks(tick_marks, classes)\n",
        "\n",
        "  fmt = '.2f' if normalize else 'd'\n",
        "  thresh = cm.max() / 2.\n",
        "  for i, j in itertools.product(range(cm.shape[0]), range(cm.shape[1])):\n",
        "      plt.text(j, i, format(cm[i, j], fmt),\n",
        "               horizontalalignment=\"center\",\n",
        "               color=\"white\" if cm[i, j] > thresh else \"black\")\n",
        "\n",
        "  plt.tight_layout()\n",
        "  plt.ylabel('True label')\n",
        "  plt.xlabel('Predicted label')\n",
        "  plt.show()\n",
        "\n",
        "\n",
        "p_test = model.predict(xtest).argmax(axis=1)\n",
        "cm = confusion_matrix(ytest, p_test)\n",
        "plot_confusion_matrix(cm, list(range(10)))\n",
        "\n"
      ],
      "execution_count": 0,
      "outputs": [
        {
          "output_type": "stream",
          "text": [
            "Confusion matrix, without normalization\n",
            "[[805  19  25  10  16   7   4  15  65  34]\n",
            " [ 20 834   6   6   3   3   9   2  29  88]\n",
            " [ 94   8 543  63  94  78  49  32  22  17]\n",
            " [ 35  16  52 490  73 195  43  36  21  39]\n",
            " [ 42   4  52  68 666  47  32  74  10   5]\n",
            " [ 20  12  30 194  57 602  16  44  14  11]\n",
            " [ 11  12  28  71  55  40 752  11  11   9]\n",
            " [ 27   3  21  44  58  62   3 751   7  24]\n",
            " [ 83  45   7  14   8   6   2   3 814  18]\n",
            " [ 53 108   5  10   6   9   3  17  36 753]]\n"
          ],
          "name": "stdout"
        },
        {
          "output_type": "display_data",
          "data": {
            "image/png": "[encoded data removed]",
            "text/plain": [
              "<Figure size 432x288 with 2 Axes>"
            ]
          },
          "metadata": {
            "tags": [],
            "needs_background": "light"
          }
        }
      ]
    },
    {
      "cell_type": "code",
      "metadata": {
        "id": "lIoSngq38iXa",
        "colab_type": "code",
        "outputId": "4ab055fc-d2bc-46d6-e9fd-ba04c9f0a353",
        "colab": {
          "base_uri": "https://localhost:8080/",
          "height": 34
        }
      },
      "source": [
        "print(class_names)"
      ],
      "execution_count": 0,
      "outputs": [
        {
          "output_type": "stream",
          "text": [
            "['0: airplane', '1: automobile', '2: bird', '3: cat', '4: deer', '5: dog', '6: frog', '7: horse', '8: ship', '9: truck']\n"
          ],
          "name": "stdout"
        }
      ]
    },
    {
      "cell_type": "code",
      "metadata": {
        "id": "iRIbvs1J8ic8",
        "colab_type": "code",
        "outputId": "35e7a2e3-aa66-45e4-88c2-b4e57362e85e",
        "colab": {
          "base_uri": "https://localhost:8080/",
          "height": 446
        }
      },
      "source": [
        "# Show some misclassified examples\n",
        "# TODO: add label names\n",
        "misclassified_idx = np.where(p_test != ytest)[0]\n",
        "i = np.random.choice(misclassified_idx)\n",
        "plt.imshow(xtest[i], cmap='gray')\n",
        "plt.title(\"True label: %s Predicted: %s\" % (labels[ytest[i]], labels[p_test[i]]));"
      ],
      "execution_count": 0,
      "outputs": [
        {
          "output_type": "error",
          "ename": "NameError",
          "evalue": "ignored",
          "traceback": [
            "\u001b[0;31m---------------------------------------------------------------------------\u001b[0m",
            "\u001b[0;31mNameError\u001b[0m                                 Traceback (most recent call last)",
            "\u001b[0;32m<ipython-input-47-cdadcd7e93f2>\u001b[0m in \u001b[0;36m<module>\u001b[0;34m()\u001b[0m\n\u001b[1;32m      2\u001b[0m \u001b[0mi\u001b[0m \u001b[0;34m=\u001b[0m \u001b[0mnp\u001b[0m\u001b[0;34m.\u001b[0m\u001b[0mrandom\u001b[0m\u001b[0;34m.\u001b[0m\u001b[0mchoice\u001b[0m\u001b[0;34m(\u001b[0m\u001b[0mmisclassified_idx\u001b[0m\u001b[0;34m)\u001b[0m\u001b[0;34m\u001b[0m\u001b[0;34m\u001b[0m\u001b[0m\n\u001b[1;32m      3\u001b[0m \u001b[0mplt\u001b[0m\u001b[0;34m.\u001b[0m\u001b[0mimshow\u001b[0m\u001b[0;34m(\u001b[0m\u001b[0mxtest\u001b[0m\u001b[0;34m[\u001b[0m\u001b[0mi\u001b[0m\u001b[0;34m]\u001b[0m\u001b[0;34m,\u001b[0m \u001b[0mcmap\u001b[0m\u001b[0;34m=\u001b[0m\u001b[0;34m'gray'\u001b[0m\u001b[0;34m)\u001b[0m\u001b[0;34m\u001b[0m\u001b[0;34m\u001b[0m\u001b[0m\n\u001b[0;32m----> 4\u001b[0;31m \u001b[0mplt\u001b[0m\u001b[0;34m.\u001b[0m\u001b[0mtitle\u001b[0m\u001b[0;34m(\u001b[0m\u001b[0;34m\"True label: %s Predicted: %s\"\u001b[0m \u001b[0;34m%\u001b[0m \u001b[0;34m(\u001b[0m\u001b[0mlabels\u001b[0m\u001b[0;34m[\u001b[0m\u001b[0mytest\u001b[0m\u001b[0;34m[\u001b[0m\u001b[0mi\u001b[0m\u001b[0;34m]\u001b[0m\u001b[0;34m]\u001b[0m\u001b[0;34m,\u001b[0m \u001b[0mlabels\u001b[0m\u001b[0;34m[\u001b[0m\u001b[0mp_test\u001b[0m\u001b[0;34m[\u001b[0m\u001b[0mi\u001b[0m\u001b[0;34m]\u001b[0m\u001b[0;34m]\u001b[0m\u001b[0;34m)\u001b[0m\u001b[0;34m)\u001b[0m\u001b[0;34m;\u001b[0m\u001b[0;34m\u001b[0m\u001b[0;34m\u001b[0m\u001b[0m\n\u001b[0m",
            "\u001b[0;31mNameError\u001b[0m: name 'labels' is not defined"
          ]
        },
        {
          "output_type": "display_data",
          "data": {
            "image/png": "[encoded data removed]",
            "text/plain": [
              "<Figure size 432x288 with 1 Axes>"
            ]
          },
          "metadata": {
            "tags": [],
            "needs_background": "light"
          }
        }
      ]
    },
    {
      "cell_type": "markdown",
      "metadata": {
        "id": "emyI9BF0_Us6",
        "colab_type": "text"
      },
      "source": [
        "# Alternative way of building the model (Sequential way)\n"
      ]
    },
    {
      "cell_type": "code",
      "metadata": {
        "id": "hkGRA3GU80dl",
        "colab_type": "code",
        "outputId": "55d88601-0ba2-49b6-ea71-e0e1c4d1d3bf",
        "colab": {
          "base_uri": "https://localhost:8080/",
          "height": 34
        }
      },
      "source": [
        "xtrain.shape"
      ],
      "execution_count": 0,
      "outputs": [
        {
          "output_type": "execute_result",
          "data": {
            "text/plain": [
              "(50000, 32, 32, 3)"
            ]
          },
          "metadata": {
            "tags": []
          },
          "execution_count": 57
        }
      ]
    },
    {
      "cell_type": "code",
      "metadata": {
        "id": "ViT2Z_9n80a4",
        "colab_type": "code",
        "colab": {}
      },
      "source": [
        "model2=tf.keras.models.Sequential([\n",
        "       tf.keras.layers.Conv2D(32,(3,3),strides=2,activation='relu',input_shape=[32, 32, 3]),\n",
        "       tf.keras.layers.Conv2D(64,(3,3),strides=2,activation='relu'),\n",
        "       tf.keras.layers.Conv2D(128,(3,3),strides=2,activation='relu'),\n",
        "       tf.keras.layers.Flatten(),\n",
        "       tf.keras.layers.Dropout(0.3),\n",
        "       tf.keras.layers.Dense(1024,activation='relu'),\n",
        "       tf.keras.layers.Dropout(0.3),\n",
        "       tf.keras.layers.Dense(10,activation='softmax')                       \n",
        "                                                      ])"
      ],
      "execution_count": 0,
      "outputs": []
    },
    {
      "cell_type": "code",
      "metadata": {
        "id": "B7roUFKD_7Zk",
        "colab_type": "code",
        "outputId": "206c7b09-0d88-4d84-f9e1-ce09458df43a",
        "colab": {
          "base_uri": "https://localhost:8080/",
          "height": 425
        }
      },
      "source": [
        "model2.summary()"
      ],
      "execution_count": 0,
      "outputs": [
        {
          "output_type": "stream",
          "text": [
            "Model: \"sequential\"\n",
            "_________________________________________________________________\n",
            "Layer (type)                 Output Shape              Param #   \n",
            "=================================================================\n",
            "conv2d_6 (Conv2D)            (None, 15, 15, 32)        896       \n",
            "_________________________________________________________________\n",
            "conv2d_7 (Conv2D)            (None, 7, 7, 64)          18496     \n",
            "_________________________________________________________________\n",
            "conv2d_8 (Conv2D)            (None, 3, 3, 128)         73856     \n",
            "_________________________________________________________________\n",
            "flatten_2 (Flatten)          (None, 1152)              0         \n",
            "_________________________________________________________________\n",
            "dropout_4 (Dropout)          (None, 1152)              0         \n",
            "_________________________________________________________________\n",
            "dense_4 (Dense)              (None, 1024)              1180672   \n",
            "_________________________________________________________________\n",
            "dropout_5 (Dropout)          (None, 1024)              0         \n",
            "_________________________________________________________________\n",
            "dense_5 (Dense)              (None, 10)                10250     \n",
            "=================================================================\n",
            "Total params: 1,284,170\n",
            "Trainable params: 1,284,170\n",
            "Non-trainable params: 0\n",
            "_________________________________________________________________\n"
          ],
          "name": "stdout"
        }
      ]
    },
    {
      "cell_type": "code",
      "metadata": {
        "id": "v-LXUTba_7hw",
        "colab_type": "code",
        "colab": {}
      },
      "source": [
        "# Compile and fit\n",
        "# Note: make sure you are using the GPU for this!\n",
        "model2.compile(optimizer='adam',\n",
        "              loss='sparse_categorical_crossentropy',\n",
        "              metrics=['accuracy'])"
      ],
      "execution_count": 0,
      "outputs": []
    },
    {
      "cell_type": "code",
      "metadata": {
        "id": "i26b7a29_7oQ",
        "colab_type": "code",
        "outputId": "52fbfca5-86d8-4c03-9204-6f175bd086e4",
        "colab": {
          "base_uri": "https://localhost:8080/",
          "height": 544
        }
      },
      "source": [
        "r2 = model2.fit(xtrain, ytrain, validation_data=(xtest, ytest), epochs=15)"
      ],
      "execution_count": 0,
      "outputs": [
        {
          "output_type": "stream",
          "text": [
            "Train on 50000 samples, validate on 10000 samples\n",
            "Epoch 1/15\n",
            "50000/50000 [==============================] - 50s 1ms/sample - loss: 1.5182 - accuracy: 0.4477 - val_loss: 1.2323 - val_accuracy: 0.5519\n",
            "Epoch 2/15\n",
            "50000/50000 [==============================] - 50s 992us/sample - loss: 1.2013 - accuracy: 0.5704 - val_loss: 1.0507 - val_accuracy: 0.6250\n",
            "Epoch 3/15\n",
            "50000/50000 [==============================] - 49s 990us/sample - loss: 1.0450 - accuracy: 0.6277 - val_loss: 0.9847 - val_accuracy: 0.6491\n",
            "Epoch 4/15\n",
            "50000/50000 [==============================] - 49s 987us/sample - loss: 0.9419 - accuracy: 0.6657 - val_loss: 0.9426 - val_accuracy: 0.6677\n",
            "Epoch 5/15\n",
            "50000/50000 [==============================] - 49s 988us/sample - loss: 0.8551 - accuracy: 0.6960 - val_loss: 0.8940 - val_accuracy: 0.6890\n",
            "Epoch 6/15\n",
            "50000/50000 [==============================] - 49s 990us/sample - loss: 0.7761 - accuracy: 0.7252 - val_loss: 0.8799 - val_accuracy: 0.6945\n",
            "Epoch 7/15\n",
            "50000/50000 [==============================] - 50s 994us/sample - loss: 0.7153 - accuracy: 0.7459 - val_loss: 0.8596 - val_accuracy: 0.7005\n",
            "Epoch 8/15\n",
            "50000/50000 [==============================] - 50s 1ms/sample - loss: 0.6637 - accuracy: 0.7636 - val_loss: 0.8375 - val_accuracy: 0.7092\n",
            "Epoch 9/15\n",
            "50000/50000 [==============================] - 49s 987us/sample - loss: 0.6101 - accuracy: 0.7827 - val_loss: 0.8552 - val_accuracy: 0.7087\n",
            "Epoch 10/15\n",
            "50000/50000 [==============================] - 50s 992us/sample - loss: 0.5654 - accuracy: 0.7980 - val_loss: 0.8323 - val_accuracy: 0.7126\n",
            "Epoch 11/15\n",
            "50000/50000 [==============================] - 50s 990us/sample - loss: 0.5267 - accuracy: 0.8124 - val_loss: 0.8549 - val_accuracy: 0.7115\n",
            "Epoch 12/15\n",
            "50000/50000 [==============================] - 49s 987us/sample - loss: 0.5048 - accuracy: 0.8209 - val_loss: 0.8669 - val_accuracy: 0.7208\n",
            "Epoch 13/15\n",
            "50000/50000 [==============================] - 50s 996us/sample - loss: 0.4670 - accuracy: 0.8334 - val_loss: 0.8503 - val_accuracy: 0.7168\n",
            "Epoch 14/15\n",
            "50000/50000 [==============================] - 50s 999us/sample - loss: 0.4503 - accuracy: 0.8411 - val_loss: 0.8759 - val_accuracy: 0.7100\n",
            "Epoch 15/15\n",
            "50000/50000 [==============================] - 50s 996us/sample - loss: 0.4219 - accuracy: 0.8507 - val_loss: 0.9184 - val_accuracy: 0.7076\n"
          ],
          "name": "stdout"
        }
      ]
    },
    {
      "cell_type": "code",
      "metadata": {
        "id": "Q1knctJH_7mP",
        "colab_type": "code",
        "colab": {}
      },
      "source": [
        "ypred2 = model2.predict_classes(xtest)"
      ],
      "execution_count": 0,
      "outputs": []
    },
    {
      "cell_type": "code",
      "metadata": {
        "id": "H0Ozj5sa_7fa",
        "colab_type": "code",
        "outputId": "29c39b2f-bb9b-4995-81c4-15cfa15afd62",
        "colab": {
          "base_uri": "https://localhost:8080/",
          "height": 34
        }
      },
      "source": [
        "print(ypred[2],ytest[2])"
      ],
      "execution_count": 0,
      "outputs": [
        {
          "output_type": "stream",
          "text": [
            "8 8\n"
          ],
          "name": "stdout"
        }
      ]
    },
    {
      "cell_type": "code",
      "metadata": {
        "id": "CfELlHGK_7c0",
        "colab_type": "code",
        "outputId": "60c26ac7-14a3-4b72-acef-516c299060d0",
        "colab": {
          "base_uri": "https://localhost:8080/",
          "height": 34
        }
      },
      "source": [
        "print(class_names)"
      ],
      "execution_count": 0,
      "outputs": [
        {
          "output_type": "stream",
          "text": [
            "['0: airplane', '1: automobile', '2: bird', '3: cat', '4: deer', '5: dog', '6: frog', '7: horse', '8: ship', '9: truck']\n"
          ],
          "name": "stdout"
        }
      ]
    },
    {
      "cell_type": "code",
      "metadata": {
        "id": "6w9w16XRAsqB",
        "colab_type": "code",
        "outputId": "b0d7cdb5-fc3b-4912-f30f-418b0dc225c7",
        "colab": {
          "base_uri": "https://localhost:8080/",
          "height": 204
        }
      },
      "source": [
        "cm1=confusion_matrix(ypred2,ytest)\n",
        "print(cm1)\n",
        "\n",
        "print(accuracy_score(ypred2,ytest))"
      ],
      "execution_count": 0,
      "outputs": [
        {
          "output_type": "stream",
          "text": [
            "[[748   8  58  15  19  10   7   9  47  27]\n",
            " [ 28 856   5   8   7   5  10   3  58 108]\n",
            " [ 32   5 510  45  43  24  18  14   4  13]\n",
            " [ 26  12  83 486  77 130  85  45  22  16]\n",
            " [ 16   2 122  63 667  38  62  50   9   4]\n",
            " [ 16   8 124 299  77 728  59  90  19  16]\n",
            " [  9   9  47  37  19  18 738   4   5   7]\n",
            " [ 17   3  28  32  73  36   8 765   4  15]\n",
            " [ 69  15  15   2  13   4   9   6 801  17]\n",
            " [ 39  82   8  13   5   7   4  14  31 777]]\n",
            "0.7076\n"
          ],
          "name": "stdout"
        }
      ]
    },
    {
      "cell_type": "code",
      "metadata": {
        "id": "ubSM3RR1AsuH",
        "colab_type": "code",
        "outputId": "b0bc2ba9-8f32-4162-e7a3-7869adeab0fa",
        "colab": {
          "base_uri": "https://localhost:8080/",
          "height": 282
        }
      },
      "source": [
        "# Plot loss per iteration\n",
        "import matplotlib.pyplot as plt\n",
        "plt.plot(r2.history['accuracy'], label='Training accuracy')\n",
        "plt.plot(r2.history['val_accuracy'], label=' Test accuracy')\n",
        "plt.legend()"
      ],
      "execution_count": 0,
      "outputs": [
        {
          "output_type": "execute_result",
          "data": {
            "text/plain": [
              "<matplotlib.legend.Legend at 0x7fa6a917b080>"
            ]
          },
          "metadata": {
            "tags": []
          },
          "execution_count": 66
        },
        {
          "output_type": "display_data",
          "data": {
            "image/png": "[encoded data removed]",
            "text/plain": [
              "<Figure size 432x288 with 1 Axes>"
            ]
          },
          "metadata": {
            "tags": [],
            "needs_background": "light"
          }
        }
      ]
    },
    {
      "cell_type": "code",
      "metadata": {
        "id": "Lmwr1balBANq",
        "colab_type": "code",
        "outputId": "b8de84f8-3aaf-4125-f668-cc14e54c79a3",
        "colab": {
          "base_uri": "https://localhost:8080/",
          "height": 282
        }
      },
      "source": [
        "# Plot loss per iteration\n",
        "import matplotlib.pyplot as plt\n",
        "plt.plot(r2.history['loss'], label='Training loss')\n",
        "plt.plot(r2.history['val_loss'], label=' Test loss')\n",
        "plt.legend()"
      ],
      "execution_count": 0,
      "outputs": [
        {
          "output_type": "execute_result",
          "data": {
            "text/plain": [
              "<matplotlib.legend.Legend at 0x7fa6a90f0588>"
            ]
          },
          "metadata": {
            "tags": []
          },
          "execution_count": 68
        },
        {
          "output_type": "display_data",
          "data": {
            "image/png": "[encoded data removed]",
            "text/plain": [
              "<Figure size 432x288 with 1 Axes>"
            ]
          },
          "metadata": {
            "tags": [],
            "needs_background": "light"
          }
        }
      ]
    },
    {
      "cell_type": "code",
      "metadata": {
        "id": "jAgSfwG851ob",
        "colab_type": "code",
        "colab": {}
      },
      "source": [
        "#(x_train,y_train),(x_test,y_test)=cifar10.load_data()"
      ],
      "execution_count": 0,
      "outputs": []
    },
    {
      "cell_type": "code",
      "metadata": {
        "id": "mSFujqnL51iX",
        "colab_type": "code",
        "colab": {}
      },
      "source": [
        "#x_train.shape, y_train.shape"
      ],
      "execution_count": 0,
      "outputs": []
    },
    {
      "cell_type": "code",
      "metadata": {
        "id": "xHZoH0p858f-",
        "colab_type": "code",
        "colab": {}
      },
      "source": [
        "#x_train,x_test=x_train/255,x_test/255"
      ],
      "execution_count": 0,
      "outputs": []
    },
    {
      "cell_type": "code",
      "metadata": {
        "id": "-ErlwH5o6GRw",
        "colab_type": "code",
        "colab": {}
      },
      "source": [
        "#y_train,y_test=y_train.flatten(),y_test.flatten()"
      ],
      "execution_count": 0,
      "outputs": []
    },
    {
      "cell_type": "code",
      "metadata": {
        "id": "Al3GwKCv6Pap",
        "colab_type": "code",
        "colab": {}
      },
      "source": [
        "#y_train.shape"
      ],
      "execution_count": 0,
      "outputs": []
    },
    {
      "cell_type": "code",
      "metadata": {
        "id": "ej1nK0IY6Sb1",
        "colab_type": "code",
        "colab": {}
      },
      "source": [
        "# Build the model using the functional API\n",
        "#i1 = Input(shape=xtrain[0].shape)\n",
        "#x1 = Conv2D(32, (3, 3), strides=2, activation='relu')(i1)\n",
        "#x1 = Conv2D(64, (3, 3), strides=2, activation='relu')(x1)\n",
        "#x1 = Conv2D(128, (3, 3), strides=2, activation='relu')(x1)\n",
        "#x1 = Flatten()(x1)\n",
        "#x1 = Dropout(0.3)(x1)\n",
        "#x1 = Dense(1024, activation='relu')(x1)\n",
        "#x1 = Dropout(0.3)(x1)\n",
        "#x1 = Dense(10, activation='softmax')(x1)\n",
        "\n",
        "#model1 = Model(i1, x1)"
      ],
      "execution_count": 0,
      "outputs": []
    },
    {
      "cell_type": "code",
      "metadata": {
        "id": "W7ng7YBW6iTt",
        "colab_type": "code",
        "colab": {}
      },
      "source": [
        "#model1.summary()"
      ],
      "execution_count": 0,
      "outputs": []
    },
    {
      "cell_type": "code",
      "metadata": {
        "id": "KihAZFj-6kB7",
        "colab_type": "code",
        "colab": {}
      },
      "source": [
        "# Compile and fit\n",
        "# Note: make sure you are using the GPU for this!\n",
        "#model1.compile(optimizer='adam',\n",
        "              #loss='sparse_categorical_crossentropy',\n",
        "             #metrics=['accuracy'])"
      ],
      "execution_count": 0,
      "outputs": []
    },
    {
      "cell_type": "code",
      "metadata": {
        "id": "VlVwrPrP6ozl",
        "colab_type": "code",
        "colab": {}
      },
      "source": [
        "#r1 = model1.fit(x_train, y_train, validation_data=(x_test, y_test), epochs=5)"
      ],
      "execution_count": 0,
      "outputs": []
    }
  ]
}